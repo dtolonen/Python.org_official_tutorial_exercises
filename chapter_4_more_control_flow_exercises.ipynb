{
 "cells": [
  {
   "cell_type": "code",
   "execution_count": 1,
   "metadata": {},
   "outputs": [],
   "source": [
    "#Chapter 4 More Control Flow Tools"
   ]
  },
  {
   "cell_type": "code",
   "execution_count": 1,
   "metadata": {},
   "outputs": [
    {
     "name": "stdin",
     "output_type": "stream",
     "text": [
      "Please enter an integer:  42\n"
     ]
    }
   ],
   "source": [
    "#Besides the while statement just introduced, \n",
    "#Python uses the usual flow control statements known from other languages, \n",
    "#with some twists. Perhaps the most well-known statement type is the if statement. \n",
    "\n",
    "x = int(input(\"Please enter an integer: \"))"
   ]
  },
  {
   "cell_type": "code",
   "execution_count": 4,
   "metadata": {},
   "outputs": [
    {
     "name": "stdout",
     "output_type": "stream",
     "text": [
      "More\n"
     ]
    }
   ],
   "source": [
    "if x < 0:\n",
    "    x = 0 \n",
    "    print('Negative changed to zero')\n",
    "elif x == 0:\n",
    "    print('Zero')\n",
    "elif x == 1:\n",
    "    print('Single')\n",
    "else:\n",
    "    print('More')"
   ]
  },
  {
   "cell_type": "code",
   "execution_count": 5,
   "metadata": {},
   "outputs": [],
   "source": [
    "#There can be zero or more elif parts, \n",
    "#and the else part is optional. The keyword ‘elif’ \n",
    "#is short for ‘else if’, and is useful to avoid \n",
    "#excessive indentation. An if … elif … elif … sequence \n",
    "#is a substitute for the switch or case statements found in other languages.\n",
    "\n"
   ]
  },
  {
   "cell_type": "code",
   "execution_count": 6,
   "metadata": {},
   "outputs": [],
   "source": [
    "#The for statement in Python differs a bit from what \n",
    "#you may be used to in C or Pascal. Rather than \n",
    "#always iterating over an arithmetic progression \n",
    "#of numbers (like in Pascal), or giving the user \n",
    "#the ability to define both the iteration step and \n",
    "#halting condition (as C), Python’s for statement \n",
    "#iterates over the items of any sequence (a list or a string), \n",
    "#in the order that they appear in the sequence.\n",
    "\n"
   ]
  },
  {
   "cell_type": "code",
   "execution_count": 8,
   "metadata": {},
   "outputs": [
    {
     "name": "stdout",
     "output_type": "stream",
     "text": [
      "cat 3\n",
      "window 6\n",
      "defenestrate 12\n"
     ]
    }
   ],
   "source": [
    "# Measure some strings:\n",
    "\n",
    "words = ['cat', 'window', 'defenestrate']\n",
    "for w in words: \n",
    "    print(w, len(w))"
   ]
  },
  {
   "cell_type": "code",
   "execution_count": 10,
   "metadata": {},
   "outputs": [
    {
     "data": {
      "text/plain": [
       "['defenestrate',\n",
       " 'defenestrate',\n",
       " 'defenestrate',\n",
       " 'cat',\n",
       " 'window',\n",
       " 'defenestrate']"
      ]
     },
     "execution_count": 10,
     "metadata": {},
     "output_type": "execute_result"
    }
   ],
   "source": [
    "#If you need to modify the sequence you are iterating \n",
    "#over while inside the loop (for example to duplicate \n",
    "#selected items), it is recommended that you first make a copy. \n",
    "#Iterating over a sequence does not implicitly make a copy. \n",
    "#The slice notation makes this especially convenient:\n",
    "\n",
    "for w in words[:]:  # Loop over a slice copy of the entire list.\n",
    "    if len(w) > 6:\n",
    "        words.insert(0, w)\n",
    "        \n",
    "words"
   ]
  },
  {
   "cell_type": "code",
   "execution_count": 23,
   "metadata": {},
   "outputs": [],
   "source": [
    "#Wait, why did we jump from line 8 to 23 in Jupyter Notebook?\n",
    "\n",
    "#With for w in words:, (w here is a variable created for the iteration, \n",
    "#below it could mean 'for each value in the range') the example would attempt \n",
    "#to create an infinite list, inserting defenestrate over and over again."
   ]
  },
  {
   "cell_type": "code",
   "execution_count": 27,
   "metadata": {},
   "outputs": [
    {
     "name": "stdout",
     "output_type": "stream",
     "text": [
      "0\n",
      "1\n",
      "2\n",
      "3\n",
      "4\n"
     ]
    }
   ],
   "source": [
    "#The range() function\n",
    "#\n",
    "#If you need to iterate over a sequence of numbers, \n",
    "#the built-in function range() comes in handy. \n",
    "#It generates arithmetic progressions:\n",
    "\n",
    "for i in range(5):\n",
    "    print(i)"
   ]
  },
  {
   "cell_type": "code",
   "execution_count": 39,
   "metadata": {},
   "outputs": [
    {
     "name": "stdout",
     "output_type": "stream",
     "text": [
      "5\n",
      "6\n",
      "7\n",
      "8\n",
      "9\n"
     ]
    }
   ],
   "source": [
    "#The given end point is never part of the generated sequence; \n",
    "#range(10) generates 10 values, the legal indices for items \n",
    "#of a sequence of length 10. It is possible to let the range \n",
    "#start at another number, or to specify a different increment (even negative; \n",
    "#sometimes this is called the ‘step’):\n",
    "\n",
    "for i in range(5, 10):\n",
    "    print(i)"
   ]
  },
  {
   "cell_type": "code",
   "execution_count": 40,
   "metadata": {},
   "outputs": [
    {
     "name": "stdout",
     "output_type": "stream",
     "text": [
      "0\n",
      "3\n",
      "6\n",
      "9\n"
     ]
    }
   ],
   "source": [
    "for i in range(0, 10, 3):\n",
    "    print(i)"
   ]
  },
  {
   "cell_type": "code",
   "execution_count": 41,
   "metadata": {},
   "outputs": [
    {
     "name": "stdout",
     "output_type": "stream",
     "text": [
      "-10\n",
      "-40\n",
      "-70\n"
     ]
    }
   ],
   "source": [
    "for i in range(-10, -100, -30):\n",
    "    print(i)"
   ]
  },
  {
   "cell_type": "code",
   "execution_count": 42,
   "metadata": {},
   "outputs": [
    {
     "name": "stdout",
     "output_type": "stream",
     "text": [
      "0 Mary\n",
      "1 had\n",
      "2 a\n",
      "3 little\n",
      "4 lamb\n"
     ]
    }
   ],
   "source": [
    "#To iterate over the indices of a sequence, \n",
    "#you can combine range() and len() as follows:\n",
    "\n",
    "a = ['Mary', 'had', 'a', 'little', 'lamb']\n",
    "for i in range(len(a)):\n",
    "    print(i, a[i])"
   ]
  },
  {
   "cell_type": "code",
   "execution_count": 45,
   "metadata": {},
   "outputs": [
    {
     "name": "stdout",
     "output_type": "stream",
     "text": [
      "range(0, 10)\n"
     ]
    }
   ],
   "source": [
    "#In most such cases, however, it is convenient to use the enumerate() function, see Looping Techniques.\n",
    "#\n",
    "#A strange thing happens if you just print a range:\n",
    "\n",
    "print(range(10))"
   ]
  },
  {
   "cell_type": "code",
   "execution_count": 46,
   "metadata": {},
   "outputs": [
    {
     "data": {
      "text/plain": [
       "[0, 1, 2, 3, 4]"
      ]
     },
     "execution_count": 46,
     "metadata": {},
     "output_type": "execute_result"
    }
   ],
   "source": [
    "#In many ways the object returned by range() \n",
    "#behaves as if it is a list, but in fact it isn’t. \n",
    "#it is an object which returns the successive items \n",
    "#if the desired sequence when you iterate over it, \n",
    "#but it doesn’t really make the list, thus saving space.\n",
    "\n",
    "#We say such an object is iterable, that is, \n",
    "#suitable as a target for functions and constructs \n",
    "#that expect something from which they can obtain \n",
    "#successive items until the supply is exhausted. \n",
    "#We have seen that the for statement is such an iterator. \n",
    "#the function list() is another; \n",
    "#It creates lists from iterables:\n",
    "\n",
    "list(range(5))"
   ]
  },
  {
   "cell_type": "code",
   "execution_count": null,
   "metadata": {},
   "outputs": [],
   "source": [
    "#Later we will see more functions that return iterables and take  iterables as argument"
   ]
  },
  {
   "cell_type": "code",
   "execution_count": 51,
   "metadata": {},
   "outputs": [
    {
     "name": "stdout",
     "output_type": "stream",
     "text": [
      "2 is a prime number\n",
      "3 is a prime number\n",
      "4 equals 2 * 2\n",
      "5 is a prime number\n",
      "6 equals 2 * 3\n",
      "7 is a prime number\n",
      "8 equals 2 * 4\n",
      "9 equals 3 * 3\n"
     ]
    }
   ],
   "source": [
    "#The break statement, like in C, breaks out of \n",
    "#the innermost enclosing for or while loop.\n",
    "#\n",
    "#Loop statements may have an else clause; \n",
    "#it is executed when the loop terminates through \n",
    "#exhaustion of the list (with for) or when \n",
    "#the condition becomes false (with while), \n",
    "#but not when the loop is terminated by a break statement. \n",
    "#This is exemplified by the following loop, \n",
    "#which searches for prime numbers:\n",
    "    \n",
    "for n in range(2, 10):\n",
    "    for x in range(2, n):\n",
    "        if n % x == 0:\n",
    "            print(n, 'equals', x, '*', n//x)\n",
    "            break\n",
    "    else:\n",
    "        # loop fell through without finding a factor\n",
    "        print(n, 'is a prime number')\n",
    "        "
   ]
  },
  {
   "cell_type": "code",
   "execution_count": 52,
   "metadata": {},
   "outputs": [
    {
     "name": "stdout",
     "output_type": "stream",
     "text": [
      "Found an even number 2\n",
      "Found a number 3\n",
      "Found an even number 4\n",
      "Found a number 5\n",
      "Found an even number 6\n",
      "Found a number 7\n",
      "Found an even number 8\n",
      "Found a number 9\n"
     ]
    }
   ],
   "source": [
    "#(Yes, this is the correct code. \n",
    "# Look closely: the else clause belongs \n",
    "# to the for loop, not the if statement.)\n",
    "#\n",
    "#When used with a loop, the else clause \n",
    "#has more in common with the else clause of \n",
    "#a try statement than it does that of if statements: \n",
    "#a try statement’s else clause runs when \n",
    "#no exception occurs, and a loop’s else clause runs \n",
    "#when no break occurs. For more on the try statement \n",
    "#and exceptions, see Handling Exceptions.\n",
    "#\n",
    "#The continue statement, also borrowed from C, \n",
    "#continues with the next iteration of the loop:\n",
    "    \n",
    "for num in range(2, 10):\n",
    "    if num % 2 == 0:\n",
    "        print(\"Found an even number\", num)\n",
    "        continue\n",
    "    print(\"Found a number\", num)"
   ]
  },
  {
   "cell_type": "code",
   "execution_count": 53,
   "metadata": {},
   "outputs": [],
   "source": [
    "#The pass statement does nothing. It can be used when a statement \n",
    "#is required syntactically but the program requires no action. \n",
    "#For example:\n",
    "\n",
    "#while True:\n",
    "#    pass  # Busy-wait for keyboard interrupt (Ctrl+C)"
   ]
  },
  {
   "cell_type": "code",
   "execution_count": 56,
   "metadata": {},
   "outputs": [],
   "source": [
    "#This is commonly used for creating minimal classes:\n",
    "\n",
    "#class MyEmptyClass:\n",
    " #   pass"
   ]
  },
  {
   "cell_type": "code",
   "execution_count": 57,
   "metadata": {},
   "outputs": [],
   "source": [
    "#Another place pass can be used is as a place-holder \n",
    "#for a function or conditional body when you are working on new code,\n",
    "#allowing you to keep thinking at a more abstract level. \n",
    "#The pass is silently ignored:\n",
    "\n",
    "#def initlog(*args):\n",
    "#    pass   # Remember to implement this!"
   ]
  },
  {
   "cell_type": "code",
   "execution_count": 1,
   "metadata": {},
   "outputs": [
    {
     "name": "stdout",
     "output_type": "stream",
     "text": [
      "0 1 1 2 3 5 8 13 21 34 55 89 144 233 377 610 987 1597 \n"
     ]
    }
   ],
   "source": [
    "#Defining Functions\n",
    "#\n",
    "#We can create a function that writes \n",
    "#the Fibonacci series to an arbitrary boundary:\n",
    "\n",
    "def fib(n):\n",
    "    \"\"\"Print a Fibonacci series up to n.\"\"\"\n",
    "    a, b = 0, 1\n",
    "    while a < n:\n",
    "        print(a, end=' ')\n",
    "        a, b = b, a+b\n",
    "    print()\n",
    "\n",
    "fib(2000)\n"
   ]
  },
  {
   "cell_type": "code",
   "execution_count": 61,
   "metadata": {},
   "outputs": [
    {
     "data": {
      "text/plain": [
       "<function __main__.fib(n)>"
      ]
     },
     "execution_count": 61,
     "metadata": {},
     "output_type": "execute_result"
    }
   ],
   "source": [
    "#The keyword def introduces a function definition. \n",
    "#It must be followed by the function name and \n",
    "#the parenthesized list of formal parameters. \n",
    "#The statements that form the body of the function start \n",
    "#at the next line, and must be indented.\n",
    "#\n",
    "#The first statement of the function body can optionally \n",
    "#be a string literal; this string literal is the function’s \n",
    "#documentation string, or docstring. (More about docstrings \n",
    "#can be found in the section Documentation Strings.) \n",
    "#There are tools which use docstrings to automatically produce \n",
    "#online or printed documentation, or to let the user interactively \n",
    "#browse through code; it’s good practice to include docstrings \n",
    "#in code that you write, so make a habit of it.\n",
    "#\n",
    "#The execution of a function introduces a new symbol table used \n",
    "#for the local variables of the function. More precisely, all \n",
    "#variable assignments in a function store the value in the local \n",
    "#symbol table; whereas variable references first look in the \n",
    "#local symbol table, then in the local symbol tables of enclosing functions, \n",
    "#then in the global symbol table, and finally in the table of built-in names. \n",
    "\n",
    "#Thus, global variables and variables of enclosing functions cannot \n",
    "#be directly assigned a value within a function (unless, for global \n",
    "#variables, named in a global statement, or, for variables of \n",
    "#enclosing functions, named in a nonlocal statement), although they \n",
    "#may be referenced.\n",
    "#\n",
    "#The actual parameters (arguments) to a function call are introduced\n",
    "#in the local symbol table of the called function when it is called; \n",
    "#thus, arguments are passed using call by value (where the value is \n",
    "#always an object reference, not the value of the object). 1 When \n",
    "#a function calls another function, a new local symbol table is \n",
    "#created for that call.\n",
    "#\n",
    "#A function definition introduces the function name in the current \n",
    "#symbol table. The value of the function name has a type that is \n",
    "#recognized by the interpreter as a user-defined function. \n",
    "#This value can be assigned to another name which can then also \n",
    "#be used as a function. This serves as a general renaming mechanism:\n",
    "\n",
    "\n",
    "fib"
   ]
  },
  {
   "cell_type": "code",
   "execution_count": 62,
   "metadata": {},
   "outputs": [
    {
     "name": "stdout",
     "output_type": "stream",
     "text": [
      "0 1 1 2 3 5 8 13 21 34 55 89 \n"
     ]
    }
   ],
   "source": [
    "# the tutorial stated this instead: <function fib at 10042ed0>\n",
    "f = fib\n",
    "f(100)"
   ]
  },
  {
   "cell_type": "code",
   "execution_count": 63,
   "metadata": {},
   "outputs": [
    {
     "name": "stdout",
     "output_type": "stream",
     "text": [
      "\n",
      "\n",
      "None\n"
     ]
    }
   ],
   "source": [
    "#Coming from other languages, you might object \n",
    "#that fib is not a function but a procedure since it \n",
    "#doesn’t return a value. In fact, even functions without \n",
    "#a return statement do return a value, albeit a rather boring one. \n",
    "#This value is called None (it’s a built-in name). \n",
    "#Writing the value None is normally suppressed by the interpreter \n",
    "#if it would be the only value written. \n",
    "#You can see it if you really want to using print():\n",
    "\n",
    "fib(0)\n",
    "print(fib(0))\n",
    "\n",
    "\n",
    "#It is simple to write a function that returns a list of \n",
    "#the numbers of the Fibonacci series, \n",
    "#instead of printing it:"
   ]
  },
  {
   "cell_type": "code",
   "execution_count": 64,
   "metadata": {},
   "outputs": [],
   "source": [
    "def fib2(n):  # return Fibonacci series up to n\n",
    "    \"\"\"Return a list containing the Fibonacci series up to n.\"\"\"\n",
    "    result = []\n",
    "    a, b = 0, 1\n",
    "    while a < n:\n",
    "        result.append(a)    # see below\n",
    "        a, b = b, a+b\n",
    "    return result"
   ]
  },
  {
   "cell_type": "code",
   "execution_count": 65,
   "metadata": {},
   "outputs": [
    {
     "data": {
      "text/plain": [
       "[0, 1, 1, 2, 3, 5, 8, 13, 21, 34, 55, 89]"
      ]
     },
     "execution_count": 65,
     "metadata": {},
     "output_type": "execute_result"
    }
   ],
   "source": [
    "f100 = fib2(100)    # call it\n",
    "f100                # write the result\n",
    "\n",
    "#The result didn't show up before I cleared the dark Jupyter notebook circle:\n",
    "#[0, 1, 1, 2, 3, 5, 8, 13, 21, 34, 55, 89]\n",
    "\n",
    "\n",
    "#This example, as usual, demonstrates some new Python features:\n",
    "#\n",
    "#- The return statement returns with a value from a function. return \n",
    "#without an expression argument returns None. Falling off the end of \n",
    "#a function also returns None.\n",
    "#- The statement result.append(a) calls a method of the list object result. \n",
    "#A method is a function that ‘belongs’ to an object and is named \n",
    "#obj.methodname, where obj is some object (this may be an expression), \n",
    "#and methodname is the name of a method that is defined by the object’s type. \n",
    "#Different types define different methods. Methods of different types may \n",
    "#have the same name without causing ambiguity. (It is possible to define \n",
    "#your own object types and methods, using classes, see Classes) The method \n",
    "#append() shown in the example is defined for list objects; it adds \n",
    "#a new element at the end of the list. In this example it is equivalent \n",
    "#to result = result + [a], but more efficient."
   ]
  },
  {
   "cell_type": "code",
   "execution_count": 66,
   "metadata": {},
   "outputs": [],
   "source": [
    "#More on Defining Functions\n",
    "#It is also possible to define functions with \n",
    "#a variable number of arguments. \n",
    "#There are three forms, which can be combined.\n",
    "\n",
    "#The most useful form is to specify a default value for one \n",
    "#or more arguments. This creates a function that can be called \n",
    "#with fewer arguments than it is defined to allow. For example:"
   ]
  },
  {
   "cell_type": "code",
   "execution_count": 67,
   "metadata": {},
   "outputs": [],
   "source": [
    "def ask_ok(prompt, retries=4, reminder='Please try again!'):\n",
    "    while True:\n",
    "        ok = input(prompt)\n",
    "        if ok in ('y', 'ye', 'yes'):\n",
    "            return True\n",
    "        if ok in ('n', 'no', 'nop', 'nope'):\n",
    "            return False\n",
    "        retries = retries - 1\n",
    "        if retries < 0:\n",
    "            raise ValueError('invalid user response')\n",
    "        print(reminder)"
   ]
  },
  {
   "cell_type": "code",
   "execution_count": 70,
   "metadata": {},
   "outputs": [
    {
     "name": "stdout",
     "output_type": "stream",
     "text": [
      "5\n"
     ]
    }
   ],
   "source": [
    "#This function can be called in several ways:\n",
    "#\n",
    "#giving only the mandatory argument: \n",
    "#ask_ok('Do you really want to quit?')\n",
    "#giving one of the optional arguments: \n",
    "#ask_ok('OK to overwrite the file?', 2)\n",
    "#or even giving all arguments: \n",
    "#ask_ok('OK to overwrite the file?', 2, \n",
    "#'Come on, only yes or no!')\n",
    "#This example also introduces the in keyword. \n",
    "#This tests whether or not a sequence contains a certain value.\n",
    "#\n",
    "#The default values are evaluated at the point \n",
    "#of function definition in the defining scope, so that\n",
    "#\n",
    "\n",
    "\n",
    "i = 5\n",
    "\n",
    "def f(arg=i):\n",
    "    print(arg)\n",
    "\n",
    "i = 6\n",
    "f()\n",
    "\n",
    "#Important warning: The default value is evaluated only once.\n",
    "# This makes a difference when the default is a mutable object \n",
    "#such as a list, dictionary, or instances of most classes. \n",
    "#For example, the following function accumulates\n",
    "#the arguments passed to it on subsequent calls:"
   ]
  },
  {
   "cell_type": "code",
   "execution_count": 71,
   "metadata": {},
   "outputs": [
    {
     "name": "stdout",
     "output_type": "stream",
     "text": [
      "[1]\n",
      "[1, 2]\n",
      "[1, 2, 3]\n"
     ]
    }
   ],
   "source": [
    "def f(a, L=[]):\n",
    "    L.append(a)\n",
    "    return L\n",
    "\n",
    "print(f(1))\n",
    "print(f(2))\n",
    "print(f(3))"
   ]
  },
  {
   "cell_type": "code",
   "execution_count": 74,
   "metadata": {},
   "outputs": [],
   "source": [
    "#If you don’t want the default to be shared between \n",
    "#subsequent calls, you can write the function like this instead:\n",
    "\n",
    "#def f(a, L=None):\n",
    "#    if L is None:\n",
    "#        L = []\n",
    "#    L.append(a)\n",
    "#    return L"
   ]
  },
  {
   "cell_type": "code",
   "execution_count": 77,
   "metadata": {},
   "outputs": [
    {
     "name": "stdout",
     "output_type": "stream",
     "text": [
      "-- This parrot wouldn't voom if you put 1000 volts through it.\n",
      "-- Lovely plumage, the Norwegian Blue\n",
      "-- It's a stiff !\n",
      "-- This parrot wouldn't voom if you put 1000 volts through it.\n",
      "-- Lovely plumage, the Norwegian Blue\n",
      "-- It's a stiff !\n",
      "-- This parrot wouldn't VOOOOOM if you put 1000000 volts through it.\n",
      "-- Lovely plumage, the Norwegian Blue\n",
      "-- It's a stiff !\n",
      "-- This parrot wouldn't VOOOOOM if you put 1000000 volts through it.\n",
      "-- Lovely plumage, the Norwegian Blue\n",
      "-- It's a stiff !\n",
      "-- This parrot wouldn't jump if you put a million volts through it.\n",
      "-- Lovely plumage, the Norwegian Blue\n",
      "-- It's bereft of life !\n",
      "-- This parrot wouldn't voom if you put a thousand volts through it.\n",
      "-- Lovely plumage, the Norwegian Blue\n",
      "-- It's pushing up the daisies !\n"
     ]
    }
   ],
   "source": [
    "#Functions can also be called using keyword arguments \n",
    "#of the form kwarg=value. \n",
    "#For instance, the following function:\n",
    "\n",
    "def parrot(voltage, state='a stiff', action='voom', type='Norwegian Blue'):\n",
    "    print(\"-- This parrot wouldn't\", action, end=' ')\n",
    "    print(\"if you put\", voltage, \"volts through it.\")\n",
    "    print(\"-- Lovely plumage, the\", type)\n",
    "    print(\"-- It's\", state, \"!\")\n",
    "    \n",
    "#accepts one required argument (voltage) and three optional \n",
    "#arguments (state, action, and type). This function can \n",
    "#be called in any of the following ways:\n",
    "\n",
    "parrot(1000)                                          # 1 positional argument\n",
    "parrot(voltage=1000)                                  # 1 keyword argument\n",
    "parrot(voltage=1000000, action='VOOOOOM')             # 2 keyword arguments\n",
    "parrot(action='VOOOOOM', voltage=1000000)             # 2 keyword arguments\n",
    "parrot('a million', 'bereft of life', 'jump')         # 3 positional arguments\n",
    "parrot('a thousand', state='pushing up the daisies')  # 1 positional, 1 keyword"
   ]
  },
  {
   "cell_type": "code",
   "execution_count": 78,
   "metadata": {},
   "outputs": [
    {
     "ename": "SyntaxError",
     "evalue": "positional argument follows keyword argument (<ipython-input-78-f739c76f8745>, line 4)",
     "output_type": "error",
     "traceback": [
      "\u001b[0;36m  File \u001b[0;32m\"<ipython-input-78-f739c76f8745>\"\u001b[0;36m, line \u001b[0;32m4\u001b[0m\n\u001b[0;31m    parrot(voltage=5.0, 'dead')  # non-keyword argument after a keyword argument\u001b[0m\n\u001b[0m                       ^\u001b[0m\n\u001b[0;31mSyntaxError\u001b[0m\u001b[0;31m:\u001b[0m positional argument follows keyword argument\n"
     ]
    }
   ],
   "source": [
    "#but all the following calls would be invalid:\n",
    "\n",
    "parrot()                     # required argument missing\n",
    "parrot(voltage=5.0, 'dead')  # non-keyword argument after a keyword argument\n",
    "parrot(110, voltage=220)     # duplicate value for the same argument\n",
    "parrot(actor='John Cleese')  # unknown keyword argument"
   ]
  },
  {
   "cell_type": "code",
   "execution_count": 79,
   "metadata": {},
   "outputs": [
    {
     "ename": "TypeError",
     "evalue": "function() got multiple values for argument 'a'",
     "output_type": "error",
     "traceback": [
      "\u001b[0;31m---------------------------------------------------------------------------\u001b[0m",
      "\u001b[0;31mTypeError\u001b[0m                                 Traceback (most recent call last)",
      "\u001b[0;32m<ipython-input-79-2011459e0945>\u001b[0m in \u001b[0;36m<module>\u001b[0;34m\u001b[0m\n\u001b[1;32m     11\u001b[0m     \u001b[0;32mpass\u001b[0m\u001b[0;34m\u001b[0m\u001b[0;34m\u001b[0m\u001b[0m\n\u001b[1;32m     12\u001b[0m \u001b[0;34m\u001b[0m\u001b[0m\n\u001b[0;32m---> 13\u001b[0;31m \u001b[0mfunction\u001b[0m\u001b[0;34m(\u001b[0m\u001b[0;36m0\u001b[0m\u001b[0;34m,\u001b[0m \u001b[0ma\u001b[0m\u001b[0;34m=\u001b[0m\u001b[0;36m0\u001b[0m\u001b[0;34m)\u001b[0m\u001b[0;34m\u001b[0m\u001b[0;34m\u001b[0m\u001b[0m\n\u001b[0m",
      "\u001b[0;31mTypeError\u001b[0m: function() got multiple values for argument 'a'"
     ]
    }
   ],
   "source": [
    "#In a function call, keyword arguments must follow \n",
    "#positional arguments. All the keyword arguments passed must \n",
    "#match one of the arguments accepted by the function \n",
    "#(e.g. actor is not a valid argument for the parrot function),\n",
    "#and their order is not important. This also includes \n",
    "#non-optional arguments (e.g. parrot(voltage=1000) is \n",
    "#valid too). No argument may receive a value more than once. \n",
    "#Here’s an example that fails due to this restriction:\n",
    "    \n",
    "def function(a):\n",
    "    pass\n",
    "\n",
    "function(0, a=0)"
   ]
  },
  {
   "cell_type": "code",
   "execution_count": 80,
   "metadata": {},
   "outputs": [],
   "source": [
    "#When a final formal parameter of the form **name is present, \n",
    "#it receives a dictionary (see Mapping Types — dict) \n",
    "#containing all keyword arguments except for those \n",
    "#corresponding to a formal parameter. This may be combined \n",
    "#with a formal parameter of the form *name (described in the \n",
    "#next subsection) which receives a tuple containing \n",
    "#the positional arguments beyond the formal parameter list. \n",
    "#(*name must occur before **name.) For example, if we define \n",
    "#a function like this:\n",
    "\n",
    "def cheeseshop(kind, *arguments, **keywords):\n",
    "    print(\"-- Do you have any\", kind, \"?\")\n",
    "    print(\"-- I'm sorry, we're all out of\", kind)\n",
    "    for arg in arguments:\n",
    "        print(arg)\n",
    "    print(\"-\" * 40)\n",
    "    for kw in keywords:\n",
    "        print(kw, \":\", keywords[kw])"
   ]
  },
  {
   "cell_type": "code",
   "execution_count": 81,
   "metadata": {},
   "outputs": [
    {
     "name": "stdout",
     "output_type": "stream",
     "text": [
      "-- Do you have any Limburger ?\n",
      "-- I'm sorry, we're all out of Limburger\n",
      "It's very runny, sir.\n",
      "It's really very, VERY runny, sir.\n",
      "----------------------------------------\n",
      "shopkeeper : Michael Palin\n",
      "client : John Cleese\n",
      "sketch : Cheese Shop Sketch\n"
     ]
    }
   ],
   "source": [
    "#It could be called like this:\n",
    "\n",
    "cheeseshop(\"Limburger\", \"It's very runny, sir.\",\n",
    "           \"It's really very, VERY runny, sir.\",\n",
    "           shopkeeper=\"Michael Palin\",\n",
    "           client=\"John Cleese\",\n",
    "           sketch=\"Cheese Shop Sketch\")"
   ]
  },
  {
   "cell_type": "code",
   "execution_count": null,
   "metadata": {},
   "outputs": [],
   "source": [
    "#Note that the order in which the keyword arguments \n",
    "#are printed is guaranteed to match the order in which \n",
    "#they were provided in the function call."
   ]
  },
  {
   "cell_type": "code",
   "execution_count": 84,
   "metadata": {},
   "outputs": [
    {
     "data": {
      "text/plain": [
       "'earth/mars/venus'"
      ]
     },
     "execution_count": 84,
     "metadata": {},
     "output_type": "execute_result"
    }
   ],
   "source": [
    "#Arbitrary Argument Lists\n",
    "\n",
    "#Finally, the least frequently used option is to specify \n",
    "#that a function can be called with an arbitrary number \n",
    "#of arguments. These arguments will be wrapped up in \n",
    "#a tuple (see Tuples and Sequences). Before the variable number\n",
    "#of arguments, zero or more normal arguments may occur.\n",
    "\n",
    "def write_multiple_items(file, separator, *args):\n",
    "    file.write(separator.join(args))\n",
    "    \n",
    "#Normally, these variadic arguments will be last in the list \n",
    "#of formal parameters, because they scoop up all remaining \n",
    "#input arguments that are passed to the function. Any formal \n",
    "#parameters which occur after the *args parameter are \n",
    "#‘keyword-only’ arguments, meaning that they can only be used \n",
    "#as keywords rather than positional arguments.\n",
    "\n",
    "def concat(*args, sep=\"/\"):\n",
    "    return sep.join(args)\n",
    "concat(\"earth\", \"mars\", \"venus\")"
   ]
  },
  {
   "cell_type": "code",
   "execution_count": 85,
   "metadata": {},
   "outputs": [
    {
     "data": {
      "text/plain": [
       "'earth.mars.venus'"
      ]
     },
     "execution_count": 85,
     "metadata": {},
     "output_type": "execute_result"
    }
   ],
   "source": [
    "concat(\"earth\", \"mars\", \"venus\", sep=\".\")"
   ]
  },
  {
   "cell_type": "code",
   "execution_count": 86,
   "metadata": {},
   "outputs": [
    {
     "data": {
      "text/plain": [
       "[3, 4, 5]"
      ]
     },
     "execution_count": 86,
     "metadata": {},
     "output_type": "execute_result"
    }
   ],
   "source": [
    "#Unpacking Argument Lists\n",
    "#The reverse situation occurs when the arguments \n",
    "#are already in a list or tuple but need to \n",
    "#be unpacked for a function call requiring separate \n",
    "#positional arguments. For instance, \n",
    "#the built-in range() function expects separate start \n",
    "#and stop arguments. If they are not available separately, \n",
    "#write the function call with the * operator to unpack \n",
    "#the arguments out of a list or tuple:\n",
    "    \n",
    "list(range(3, 6))            # normal call with separate arguments"
   ]
  },
  {
   "cell_type": "code",
   "execution_count": 88,
   "metadata": {},
   "outputs": [
    {
     "data": {
      "text/plain": [
       "[3, 4, 5]"
      ]
     },
     "execution_count": 88,
     "metadata": {},
     "output_type": "execute_result"
    }
   ],
   "source": [
    "args = [3, 6]\n",
    "list(range(*args)) # call with arguments unpacked from a list"
   ]
  },
  {
   "cell_type": "code",
   "execution_count": 89,
   "metadata": {},
   "outputs": [
    {
     "name": "stdout",
     "output_type": "stream",
     "text": [
      "-- This parrot wouldn't VOOM if you put four million volts through it. E's bleedin' demised !\n"
     ]
    }
   ],
   "source": [
    "#In the same fashion, dictionaries can deliver \n",
    "#keyword arguments with the ** operator:\n",
    "\n",
    "def parrot(voltage, state='a stiff', action='voom'):\n",
    "    print(\"-- This parrot wouldn't\", action, end=' ')\n",
    "    print(\"if you put\", voltage, \"volts through it.\", end=' ')\n",
    "    print(\"E's\", state, \"!\")\n",
    "    \n",
    "d = {\"voltage\": \"four million\", \"state\": \"bleedin' demised\", \"action\": \"VOOM\"}\n",
    "parrot(**d)"
   ]
  },
  {
   "cell_type": "code",
   "execution_count": 90,
   "metadata": {},
   "outputs": [
    {
     "data": {
      "text/plain": [
       "42"
      ]
     },
     "execution_count": 90,
     "metadata": {},
     "output_type": "execute_result"
    }
   ],
   "source": [
    "#Lambda Expressions\n",
    "\n",
    "#Small anonymous functions can be created with \n",
    "#the lambda keyword. This function returns \n",
    "#the sum of its two arguments: lambda a, b: a+b. \n",
    "#Lambda functions can be used wherever function objects \n",
    "#are required. They are syntactically restricted \n",
    "#to a single expression. Semantically, they are \n",
    "#just syntactic sugar for a normal function definition. \n",
    "#Like nested function definitions, lambda functions \n",
    "#can reference variables from the containing scope\n",
    "\n",
    "def make_incrementor(n):\n",
    "    return lambda x: x + n\n",
    "\n",
    "f = make_incrementor(42)\n",
    "f(0)"
   ]
  },
  {
   "cell_type": "code",
   "execution_count": 93,
   "metadata": {},
   "outputs": [
    {
     "data": {
      "text/plain": [
       "43"
      ]
     },
     "execution_count": 93,
     "metadata": {},
     "output_type": "execute_result"
    }
   ],
   "source": [
    "f(1)"
   ]
  },
  {
   "cell_type": "code",
   "execution_count": 94,
   "metadata": {},
   "outputs": [
    {
     "data": {
      "text/plain": [
       "[(4, 'four'), (1, 'one'), (3, 'three'), (2, 'two')]"
      ]
     },
     "execution_count": 94,
     "metadata": {},
     "output_type": "execute_result"
    }
   ],
   "source": [
    "#The above example uses a lambda expression to return a function. \n",
    "#Another use is to pass a small function as an argument:\n",
    "\n",
    "pairs = [(1, 'one'), (2, 'two'), (3, 'three'), (4, 'four')]\n",
    "pairs.sort(key=lambda pair: pair[1])\n",
    "pairs"
   ]
  },
  {
   "cell_type": "code",
   "execution_count": 100,
   "metadata": {},
   "outputs": [
    {
     "name": "stdout",
     "output_type": "stream",
     "text": [
      "Do nothing, but document it.\n",
      "    \n",
      "    No, really, it doesn't do anything.\n",
      "    \n"
     ]
    }
   ],
   "source": [
    "#Documentation Strings\n",
    "\n",
    "#Here are some conventions about the content and formatting \n",
    "#of documentation strings.\n",
    "#\n",
    "#The first line should always be a short, concise summary of \n",
    "#the object’s purpose. For brevity, it should not explicitly \n",
    "#state the object’s name or type, since these are available \n",
    "#by other means (except if the name happens to be a verb \n",
    "#describing a function’s operation). This line should begin with \n",
    "#a capital letter and end with a period.\n",
    "#\n",
    "#If there are more lines in the documentation string, \n",
    "#the second line should be blank, visually separating the summary \n",
    "#from the rest of the description. The following lines should \n",
    "#be one or more paragraphs describing the object’s calling conventions, \n",
    "#its side effects, etc.\n",
    "#\n",
    "#The Python parser does not strip indentation from multi-line string \n",
    "#literals in Python, so tools that process documentation have to strip \n",
    "#indentation if desired. This is done using the following convention. \n",
    "#The first non-blank line after the first line of the string determines \n",
    "#the amount of indentation for the entire documentation string. \n",
    "#(We can’t use the first line since it is generally adjacent to \n",
    "#the string’s opening quotes so its indentation is not apparent \n",
    "#in the string literal.) Whitespace “equivalent” to this indentation \n",
    "#is then stripped from the start of all lines of the string. Lines that are indented less should not occur, but if they occur all their leading whitespace should be stripped. Equivalence of whitespace should be tested after expansion of tabs (to 8 spaces, normally).\n",
    "#\n",
    "#Here is an example of a multi-line docstring:\n",
    "    \n",
    "def my_function():\n",
    "    \"\"\"Do nothing, but document it.\n",
    "    \n",
    "    No, really, it doesn't do anything.\n",
    "    \"\"\"\n",
    "    pass\n",
    "\n",
    "print(my_function.__doc__)"
   ]
  },
  {
   "cell_type": "code",
   "execution_count": 101,
   "metadata": {},
   "outputs": [
    {
     "name": "stdout",
     "output_type": "stream",
     "text": [
      "Annotations: {'ham': <class 'str'>, 'eggs': <class 'str'>, 'return': <class 'str'>}\n",
      "Arguments: spam eggs\n"
     ]
    },
    {
     "data": {
      "text/plain": [
       "'spam and eggs'"
      ]
     },
     "execution_count": 101,
     "metadata": {},
     "output_type": "execute_result"
    }
   ],
   "source": [
    "#Function Annotations\n",
    "\n",
    "#Function annotations are completely optional metadata information \n",
    "#about the types used by user-defined functions (see PEP 3107 and \n",
    "#PEP 484 for more information).\n",
    "\n",
    "#Annotations are stored in the __annotations__ attribute of \n",
    "#the function as a dictionary and have no effect on any other part \n",
    "#of the function. Parameter annotations are defined by a colon after \n",
    "#the parameter name, followed by an expression evaluating to \n",
    "#the value of the annotation. Return annotations are defined by \n",
    "#a literal ->, followed by an expression, between the parameter \n",
    "#list and the colon denoting the end of the def statement. \n",
    "#The following example has a positional argument, a keyword argument, \n",
    "#and the return value annotated:\n",
    "\n",
    "def f(ham: str, eggs: str = 'eggs') -> str:\n",
    "    print(\"Annotations:\", f.__annotations__)\n",
    "    print(\"Arguments:\", ham, eggs)\n",
    "    return ham + ' and ' + eggs\n",
    "\n",
    "f('spam')"
   ]
  },
  {
   "cell_type": "code",
   "execution_count": null,
   "metadata": {},
   "outputs": [],
   "source": [
    "#Intermezzo: Coding Style\n",
    "\n",
    "#Now that you are about to write longer, more complex pieces of Python, \n",
    "#it is a good time to talk about coding style. Most languages can \n",
    "#be written (or more concise, formatted) in different styles; \n",
    "#some are more readable than others. Making it easy for others to read \n",
    "#your code is always a good idea, and adopting a nice coding style helps \n",
    "#tremendously for that.\n",
    "#\n",
    "#For Python, PEP 8 has emerged as the style guide that most projects \n",
    "#adhere to; it promotes a very readable and eye-pleasing coding style. \n",
    "#Every Python developer should read it at some point; here are the most \n",
    "#important points extracted for you:\n",
    "#\n",
    "#- Use 4-space indentation, and no tabs.\n",
    "#4 spaces are a good compromise between small indentation \n",
    "#(allows greater nesting depth) and large indentation (easier to read). \n",
    "#Tabs introduce confusion, and are best left out. \n",
    "#- Wrap lines so that they don’t exceed 79 characters.\n",
    "#This helps users with small displays and makes it possible to \n",
    "#have several code files side-by-side on larger displays.\n",
    "#- Use blank lines to separate functions and classes, and larger blocks of \n",
    "#code inside functions.\n",
    "#- When possible, put comments on a line of their own.\n",
    "#- Use docstrings.\n",
    "#- Use spaces around operators and after commas, but not directly inside \n",
    "#bracketing constructs: a = f(1, 2) + g(3, 4).\n",
    "#- Name your classes and functions consistently; the convention is to use \n",
    "#UpperCamelCase for classes and lowercase_with_underscores for functions \n",
    "#and methods. Always use self as the name for the first method argument \n",
    "#(see A First Look at Classes for more on classes and methods).\n",
    "#- Don’t use fancy encodings if your code is meant to be used in \n",
    "#international environments. Python’s default, UTF-8, or even plain ASCII \n",
    "#work best in any case.\n",
    "#- Likewise, don’t use non-ASCII characters in identifiers if there is only \n",
    "#the slightest chance people speaking a different language will read or \n",
    "#maintain the code."
   ]
  }
 ],
 "metadata": {
  "kernelspec": {
   "display_name": "Python 3",
   "language": "python",
   "name": "python3"
  },
  "language_info": {
   "codemirror_mode": {
    "name": "ipython",
    "version": 3
   },
   "file_extension": ".py",
   "mimetype": "text/x-python",
   "name": "python",
   "nbconvert_exporter": "python",
   "pygments_lexer": "ipython3",
   "version": "3.7.3"
  }
 },
 "nbformat": 4,
 "nbformat_minor": 4
}
